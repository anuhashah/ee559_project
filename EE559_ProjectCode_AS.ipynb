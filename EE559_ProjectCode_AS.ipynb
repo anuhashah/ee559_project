{
 "cells": [
  {
   "cell_type": "markdown",
   "id": "84a2406a-8924-4e11-880b-78a10c0112ce",
   "metadata": {},
   "source": [
    "# EE 559 Project Code (Laptop Data)"
   ]
  },
  {
   "cell_type": "code",
   "execution_count": 3,
   "id": "0f99ba3a-8d96-4c85-9513-ef41972c8cf9",
   "metadata": {},
   "outputs": [],
   "source": [
    "import numpy as np\n",
    "import pandas as pd\n",
    "import matplotlib.pyplot as plt\n",
    "from tabulate import tabulate \n",
    "\n",
    "# Import "
   ]
  },
  {
   "cell_type": "code",
   "execution_count": null,
   "id": "d20841e0-bd1d-477e-856c-34c83904395b",
   "metadata": {},
   "outputs": [],
   "source": []
  }
 ],
 "metadata": {
  "kernelspec": {
   "display_name": "Python 3 (ipykernel)",
   "language": "python",
   "name": "python3"
  },
  "language_info": {
   "codemirror_mode": {
    "name": "ipython",
    "version": 3
   },
   "file_extension": ".py",
   "mimetype": "text/x-python",
   "name": "python",
   "nbconvert_exporter": "python",
   "pygments_lexer": "ipython3",
   "version": "3.11.7"
  }
 },
 "nbformat": 4,
 "nbformat_minor": 5
}
